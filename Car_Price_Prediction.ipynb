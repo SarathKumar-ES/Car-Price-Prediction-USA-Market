{
 "cells": [
  {
   "cell_type": "code",
   "execution_count": 1,
   "id": "b0a82cf8-0730-4f90-a954-692b626ebff4",
   "metadata": {},
   "outputs": [],
   "source": [
    "# Importing required data libraries\n",
    "\n",
    "import pandas as pd\n",
    "import numpy as np # for data handling\n",
    "import matplotlib.pyplot as plt\n",
    "import seaborn as sns # for data visualization\n",
    "from sklearn.preprocessing import StandardScaler, LabelEncoder # for data preprocessing\n",
    "from sklearn.model_selection import train_test_split # for train-test split\n",
    "from sklearn.linear_model import LinearRegression\n",
    "from sklearn.tree import DecisionTreeRegressor\n",
    "from sklearn.ensemble import RandomForestRegressor, GradientBoostingRegressor\n",
    "from sklearn.svm import SVR # Regression models\n",
    "from sklearn.metrics import mean_squared_error, mean_absolute_error, r2_score # for model evaluation\n",
    "from sklearn.model_selection import GridSearchCV # for hyperparameter tuning\n",
    "\n"
   ]
  },
  {
   "cell_type": "markdown",
   "id": "e09a0efd-2269-4f59-b6c3-8acc55edf34b",
   "metadata": {},
   "source": [
    "# 1. Loading and Preprocessing"
   ]
  },
  {
   "cell_type": "code",
   "execution_count": 2,
   "id": "6e0c4a1a-7295-46c4-a971-7492ce298948",
   "metadata": {},
   "outputs": [
    {
     "data": {
      "text/html": [
       "<div>\n",
       "<style scoped>\n",
       "    .dataframe tbody tr th:only-of-type {\n",
       "        vertical-align: middle;\n",
       "    }\n",
       "\n",
       "    .dataframe tbody tr th {\n",
       "        vertical-align: top;\n",
       "    }\n",
       "\n",
       "    .dataframe thead th {\n",
       "        text-align: right;\n",
       "    }\n",
       "</style>\n",
       "<table border=\"1\" class=\"dataframe\">\n",
       "  <thead>\n",
       "    <tr style=\"text-align: right;\">\n",
       "      <th></th>\n",
       "      <th>car_ID</th>\n",
       "      <th>symboling</th>\n",
       "      <th>CarName</th>\n",
       "      <th>fueltype</th>\n",
       "      <th>aspiration</th>\n",
       "      <th>doornumber</th>\n",
       "      <th>carbody</th>\n",
       "      <th>drivewheel</th>\n",
       "      <th>enginelocation</th>\n",
       "      <th>wheelbase</th>\n",
       "      <th>...</th>\n",
       "      <th>enginesize</th>\n",
       "      <th>fuelsystem</th>\n",
       "      <th>boreratio</th>\n",
       "      <th>stroke</th>\n",
       "      <th>compressionratio</th>\n",
       "      <th>horsepower</th>\n",
       "      <th>peakrpm</th>\n",
       "      <th>citympg</th>\n",
       "      <th>highwaympg</th>\n",
       "      <th>price</th>\n",
       "    </tr>\n",
       "  </thead>\n",
       "  <tbody>\n",
       "    <tr>\n",
       "      <th>0</th>\n",
       "      <td>1</td>\n",
       "      <td>3</td>\n",
       "      <td>alfa-romero giulia</td>\n",
       "      <td>gas</td>\n",
       "      <td>std</td>\n",
       "      <td>two</td>\n",
       "      <td>convertible</td>\n",
       "      <td>rwd</td>\n",
       "      <td>front</td>\n",
       "      <td>88.6</td>\n",
       "      <td>...</td>\n",
       "      <td>130</td>\n",
       "      <td>mpfi</td>\n",
       "      <td>3.47</td>\n",
       "      <td>2.68</td>\n",
       "      <td>9.0</td>\n",
       "      <td>111</td>\n",
       "      <td>5000</td>\n",
       "      <td>21</td>\n",
       "      <td>27</td>\n",
       "      <td>13495.0</td>\n",
       "    </tr>\n",
       "    <tr>\n",
       "      <th>1</th>\n",
       "      <td>2</td>\n",
       "      <td>3</td>\n",
       "      <td>alfa-romero stelvio</td>\n",
       "      <td>gas</td>\n",
       "      <td>std</td>\n",
       "      <td>two</td>\n",
       "      <td>convertible</td>\n",
       "      <td>rwd</td>\n",
       "      <td>front</td>\n",
       "      <td>88.6</td>\n",
       "      <td>...</td>\n",
       "      <td>130</td>\n",
       "      <td>mpfi</td>\n",
       "      <td>3.47</td>\n",
       "      <td>2.68</td>\n",
       "      <td>9.0</td>\n",
       "      <td>111</td>\n",
       "      <td>5000</td>\n",
       "      <td>21</td>\n",
       "      <td>27</td>\n",
       "      <td>16500.0</td>\n",
       "    </tr>\n",
       "    <tr>\n",
       "      <th>2</th>\n",
       "      <td>3</td>\n",
       "      <td>1</td>\n",
       "      <td>alfa-romero Quadrifoglio</td>\n",
       "      <td>gas</td>\n",
       "      <td>std</td>\n",
       "      <td>two</td>\n",
       "      <td>hatchback</td>\n",
       "      <td>rwd</td>\n",
       "      <td>front</td>\n",
       "      <td>94.5</td>\n",
       "      <td>...</td>\n",
       "      <td>152</td>\n",
       "      <td>mpfi</td>\n",
       "      <td>2.68</td>\n",
       "      <td>3.47</td>\n",
       "      <td>9.0</td>\n",
       "      <td>154</td>\n",
       "      <td>5000</td>\n",
       "      <td>19</td>\n",
       "      <td>26</td>\n",
       "      <td>16500.0</td>\n",
       "    </tr>\n",
       "    <tr>\n",
       "      <th>3</th>\n",
       "      <td>4</td>\n",
       "      <td>2</td>\n",
       "      <td>audi 100 ls</td>\n",
       "      <td>gas</td>\n",
       "      <td>std</td>\n",
       "      <td>four</td>\n",
       "      <td>sedan</td>\n",
       "      <td>fwd</td>\n",
       "      <td>front</td>\n",
       "      <td>99.8</td>\n",
       "      <td>...</td>\n",
       "      <td>109</td>\n",
       "      <td>mpfi</td>\n",
       "      <td>3.19</td>\n",
       "      <td>3.40</td>\n",
       "      <td>10.0</td>\n",
       "      <td>102</td>\n",
       "      <td>5500</td>\n",
       "      <td>24</td>\n",
       "      <td>30</td>\n",
       "      <td>13950.0</td>\n",
       "    </tr>\n",
       "    <tr>\n",
       "      <th>4</th>\n",
       "      <td>5</td>\n",
       "      <td>2</td>\n",
       "      <td>audi 100ls</td>\n",
       "      <td>gas</td>\n",
       "      <td>std</td>\n",
       "      <td>four</td>\n",
       "      <td>sedan</td>\n",
       "      <td>4wd</td>\n",
       "      <td>front</td>\n",
       "      <td>99.4</td>\n",
       "      <td>...</td>\n",
       "      <td>136</td>\n",
       "      <td>mpfi</td>\n",
       "      <td>3.19</td>\n",
       "      <td>3.40</td>\n",
       "      <td>8.0</td>\n",
       "      <td>115</td>\n",
       "      <td>5500</td>\n",
       "      <td>18</td>\n",
       "      <td>22</td>\n",
       "      <td>17450.0</td>\n",
       "    </tr>\n",
       "  </tbody>\n",
       "</table>\n",
       "<p>5 rows × 26 columns</p>\n",
       "</div>"
      ],
      "text/plain": [
       "   car_ID  symboling                   CarName fueltype aspiration doornumber  \\\n",
       "0       1          3        alfa-romero giulia      gas        std        two   \n",
       "1       2          3       alfa-romero stelvio      gas        std        two   \n",
       "2       3          1  alfa-romero Quadrifoglio      gas        std        two   \n",
       "3       4          2               audi 100 ls      gas        std       four   \n",
       "4       5          2                audi 100ls      gas        std       four   \n",
       "\n",
       "       carbody drivewheel enginelocation  wheelbase  ...  enginesize  \\\n",
       "0  convertible        rwd          front       88.6  ...         130   \n",
       "1  convertible        rwd          front       88.6  ...         130   \n",
       "2    hatchback        rwd          front       94.5  ...         152   \n",
       "3        sedan        fwd          front       99.8  ...         109   \n",
       "4        sedan        4wd          front       99.4  ...         136   \n",
       "\n",
       "   fuelsystem  boreratio  stroke compressionratio horsepower  peakrpm citympg  \\\n",
       "0        mpfi       3.47    2.68              9.0        111     5000      21   \n",
       "1        mpfi       3.47    2.68              9.0        111     5000      21   \n",
       "2        mpfi       2.68    3.47              9.0        154     5000      19   \n",
       "3        mpfi       3.19    3.40             10.0        102     5500      24   \n",
       "4        mpfi       3.19    3.40              8.0        115     5500      18   \n",
       "\n",
       "   highwaympg    price  \n",
       "0          27  13495.0  \n",
       "1          27  16500.0  \n",
       "2          26  16500.0  \n",
       "3          30  13950.0  \n",
       "4          22  17450.0  \n",
       "\n",
       "[5 rows x 26 columns]"
      ]
     },
     "execution_count": 2,
     "metadata": {},
     "output_type": "execute_result"
    }
   ],
   "source": [
    "# Loading dataset\n",
    "df = pd.read_csv('CarPrice_Assignment.csv')\n",
    "# Data preview\n",
    "df.head()"
   ]
  },
  {
   "cell_type": "code",
   "execution_count": 5,
   "id": "a7f20b78-c567-4116-9a7d-b6c808476e96",
   "metadata": {},
   "outputs": [
    {
     "name": "stdout",
     "output_type": "stream",
     "text": [
      "<class 'pandas.core.frame.DataFrame'>\n",
      "RangeIndex: 205 entries, 0 to 204\n",
      "Data columns (total 26 columns):\n",
      " #   Column            Non-Null Count  Dtype  \n",
      "---  ------            --------------  -----  \n",
      " 0   car_ID            205 non-null    int64  \n",
      " 1   symboling         205 non-null    int64  \n",
      " 2   CarName           205 non-null    object \n",
      " 3   fueltype          205 non-null    object \n",
      " 4   aspiration        205 non-null    object \n",
      " 5   doornumber        205 non-null    object \n",
      " 6   carbody           205 non-null    object \n",
      " 7   drivewheel        205 non-null    object \n",
      " 8   enginelocation    205 non-null    object \n",
      " 9   wheelbase         205 non-null    float64\n",
      " 10  carlength         205 non-null    float64\n",
      " 11  carwidth          205 non-null    float64\n",
      " 12  carheight         205 non-null    float64\n",
      " 13  curbweight        205 non-null    int64  \n",
      " 14  enginetype        205 non-null    object \n",
      " 15  cylindernumber    205 non-null    object \n",
      " 16  enginesize        205 non-null    int64  \n",
      " 17  fuelsystem        205 non-null    object \n",
      " 18  boreratio         205 non-null    float64\n",
      " 19  stroke            205 non-null    float64\n",
      " 20  compressionratio  205 non-null    float64\n",
      " 21  horsepower        205 non-null    int64  \n",
      " 22  peakrpm           205 non-null    int64  \n",
      " 23  citympg           205 non-null    int64  \n",
      " 24  highwaympg        205 non-null    int64  \n",
      " 25  price             205 non-null    float64\n",
      "dtypes: float64(8), int64(8), object(10)\n",
      "memory usage: 41.8+ KB\n"
     ]
    }
   ],
   "source": [
    "# For data information \n",
    "df.info()"
   ]
  },
  {
   "cell_type": "code",
   "execution_count": 7,
   "id": "8bb2f0da-3fbd-4fe8-a9e8-070b01c7783a",
   "metadata": {},
   "outputs": [
    {
     "data": {
      "text/html": [
       "<div>\n",
       "<style scoped>\n",
       "    .dataframe tbody tr th:only-of-type {\n",
       "        vertical-align: middle;\n",
       "    }\n",
       "\n",
       "    .dataframe tbody tr th {\n",
       "        vertical-align: top;\n",
       "    }\n",
       "\n",
       "    .dataframe thead th {\n",
       "        text-align: right;\n",
       "    }\n",
       "</style>\n",
       "<table border=\"1\" class=\"dataframe\">\n",
       "  <thead>\n",
       "    <tr style=\"text-align: right;\">\n",
       "      <th></th>\n",
       "      <th>car_ID</th>\n",
       "      <th>symboling</th>\n",
       "      <th>wheelbase</th>\n",
       "      <th>carlength</th>\n",
       "      <th>carwidth</th>\n",
       "      <th>carheight</th>\n",
       "      <th>curbweight</th>\n",
       "      <th>enginesize</th>\n",
       "      <th>boreratio</th>\n",
       "      <th>stroke</th>\n",
       "      <th>compressionratio</th>\n",
       "      <th>horsepower</th>\n",
       "      <th>peakrpm</th>\n",
       "      <th>citympg</th>\n",
       "      <th>highwaympg</th>\n",
       "      <th>price</th>\n",
       "    </tr>\n",
       "  </thead>\n",
       "  <tbody>\n",
       "    <tr>\n",
       "      <th>count</th>\n",
       "      <td>205.000000</td>\n",
       "      <td>205.000000</td>\n",
       "      <td>205.000000</td>\n",
       "      <td>205.000000</td>\n",
       "      <td>205.000000</td>\n",
       "      <td>205.000000</td>\n",
       "      <td>205.000000</td>\n",
       "      <td>205.000000</td>\n",
       "      <td>205.000000</td>\n",
       "      <td>205.000000</td>\n",
       "      <td>205.000000</td>\n",
       "      <td>205.000000</td>\n",
       "      <td>205.000000</td>\n",
       "      <td>205.000000</td>\n",
       "      <td>205.000000</td>\n",
       "      <td>205.000000</td>\n",
       "    </tr>\n",
       "    <tr>\n",
       "      <th>mean</th>\n",
       "      <td>103.000000</td>\n",
       "      <td>0.834146</td>\n",
       "      <td>98.756585</td>\n",
       "      <td>174.049268</td>\n",
       "      <td>65.907805</td>\n",
       "      <td>53.724878</td>\n",
       "      <td>2555.565854</td>\n",
       "      <td>126.907317</td>\n",
       "      <td>3.329756</td>\n",
       "      <td>3.255415</td>\n",
       "      <td>10.142537</td>\n",
       "      <td>104.117073</td>\n",
       "      <td>5125.121951</td>\n",
       "      <td>25.219512</td>\n",
       "      <td>30.751220</td>\n",
       "      <td>13276.710571</td>\n",
       "    </tr>\n",
       "    <tr>\n",
       "      <th>std</th>\n",
       "      <td>59.322565</td>\n",
       "      <td>1.245307</td>\n",
       "      <td>6.021776</td>\n",
       "      <td>12.337289</td>\n",
       "      <td>2.145204</td>\n",
       "      <td>2.443522</td>\n",
       "      <td>520.680204</td>\n",
       "      <td>41.642693</td>\n",
       "      <td>0.270844</td>\n",
       "      <td>0.313597</td>\n",
       "      <td>3.972040</td>\n",
       "      <td>39.544167</td>\n",
       "      <td>476.985643</td>\n",
       "      <td>6.542142</td>\n",
       "      <td>6.886443</td>\n",
       "      <td>7988.852332</td>\n",
       "    </tr>\n",
       "    <tr>\n",
       "      <th>min</th>\n",
       "      <td>1.000000</td>\n",
       "      <td>-2.000000</td>\n",
       "      <td>86.600000</td>\n",
       "      <td>141.100000</td>\n",
       "      <td>60.300000</td>\n",
       "      <td>47.800000</td>\n",
       "      <td>1488.000000</td>\n",
       "      <td>61.000000</td>\n",
       "      <td>2.540000</td>\n",
       "      <td>2.070000</td>\n",
       "      <td>7.000000</td>\n",
       "      <td>48.000000</td>\n",
       "      <td>4150.000000</td>\n",
       "      <td>13.000000</td>\n",
       "      <td>16.000000</td>\n",
       "      <td>5118.000000</td>\n",
       "    </tr>\n",
       "    <tr>\n",
       "      <th>25%</th>\n",
       "      <td>52.000000</td>\n",
       "      <td>0.000000</td>\n",
       "      <td>94.500000</td>\n",
       "      <td>166.300000</td>\n",
       "      <td>64.100000</td>\n",
       "      <td>52.000000</td>\n",
       "      <td>2145.000000</td>\n",
       "      <td>97.000000</td>\n",
       "      <td>3.150000</td>\n",
       "      <td>3.110000</td>\n",
       "      <td>8.600000</td>\n",
       "      <td>70.000000</td>\n",
       "      <td>4800.000000</td>\n",
       "      <td>19.000000</td>\n",
       "      <td>25.000000</td>\n",
       "      <td>7788.000000</td>\n",
       "    </tr>\n",
       "    <tr>\n",
       "      <th>50%</th>\n",
       "      <td>103.000000</td>\n",
       "      <td>1.000000</td>\n",
       "      <td>97.000000</td>\n",
       "      <td>173.200000</td>\n",
       "      <td>65.500000</td>\n",
       "      <td>54.100000</td>\n",
       "      <td>2414.000000</td>\n",
       "      <td>120.000000</td>\n",
       "      <td>3.310000</td>\n",
       "      <td>3.290000</td>\n",
       "      <td>9.000000</td>\n",
       "      <td>95.000000</td>\n",
       "      <td>5200.000000</td>\n",
       "      <td>24.000000</td>\n",
       "      <td>30.000000</td>\n",
       "      <td>10295.000000</td>\n",
       "    </tr>\n",
       "    <tr>\n",
       "      <th>75%</th>\n",
       "      <td>154.000000</td>\n",
       "      <td>2.000000</td>\n",
       "      <td>102.400000</td>\n",
       "      <td>183.100000</td>\n",
       "      <td>66.900000</td>\n",
       "      <td>55.500000</td>\n",
       "      <td>2935.000000</td>\n",
       "      <td>141.000000</td>\n",
       "      <td>3.580000</td>\n",
       "      <td>3.410000</td>\n",
       "      <td>9.400000</td>\n",
       "      <td>116.000000</td>\n",
       "      <td>5500.000000</td>\n",
       "      <td>30.000000</td>\n",
       "      <td>34.000000</td>\n",
       "      <td>16503.000000</td>\n",
       "    </tr>\n",
       "    <tr>\n",
       "      <th>max</th>\n",
       "      <td>205.000000</td>\n",
       "      <td>3.000000</td>\n",
       "      <td>120.900000</td>\n",
       "      <td>208.100000</td>\n",
       "      <td>72.300000</td>\n",
       "      <td>59.800000</td>\n",
       "      <td>4066.000000</td>\n",
       "      <td>326.000000</td>\n",
       "      <td>3.940000</td>\n",
       "      <td>4.170000</td>\n",
       "      <td>23.000000</td>\n",
       "      <td>288.000000</td>\n",
       "      <td>6600.000000</td>\n",
       "      <td>49.000000</td>\n",
       "      <td>54.000000</td>\n",
       "      <td>45400.000000</td>\n",
       "    </tr>\n",
       "  </tbody>\n",
       "</table>\n",
       "</div>"
      ],
      "text/plain": [
       "           car_ID   symboling   wheelbase   carlength    carwidth   carheight  \\\n",
       "count  205.000000  205.000000  205.000000  205.000000  205.000000  205.000000   \n",
       "mean   103.000000    0.834146   98.756585  174.049268   65.907805   53.724878   \n",
       "std     59.322565    1.245307    6.021776   12.337289    2.145204    2.443522   \n",
       "min      1.000000   -2.000000   86.600000  141.100000   60.300000   47.800000   \n",
       "25%     52.000000    0.000000   94.500000  166.300000   64.100000   52.000000   \n",
       "50%    103.000000    1.000000   97.000000  173.200000   65.500000   54.100000   \n",
       "75%    154.000000    2.000000  102.400000  183.100000   66.900000   55.500000   \n",
       "max    205.000000    3.000000  120.900000  208.100000   72.300000   59.800000   \n",
       "\n",
       "        curbweight  enginesize   boreratio      stroke  compressionratio  \\\n",
       "count   205.000000  205.000000  205.000000  205.000000        205.000000   \n",
       "mean   2555.565854  126.907317    3.329756    3.255415         10.142537   \n",
       "std     520.680204   41.642693    0.270844    0.313597          3.972040   \n",
       "min    1488.000000   61.000000    2.540000    2.070000          7.000000   \n",
       "25%    2145.000000   97.000000    3.150000    3.110000          8.600000   \n",
       "50%    2414.000000  120.000000    3.310000    3.290000          9.000000   \n",
       "75%    2935.000000  141.000000    3.580000    3.410000          9.400000   \n",
       "max    4066.000000  326.000000    3.940000    4.170000         23.000000   \n",
       "\n",
       "       horsepower      peakrpm     citympg  highwaympg         price  \n",
       "count  205.000000   205.000000  205.000000  205.000000    205.000000  \n",
       "mean   104.117073  5125.121951   25.219512   30.751220  13276.710571  \n",
       "std     39.544167   476.985643    6.542142    6.886443   7988.852332  \n",
       "min     48.000000  4150.000000   13.000000   16.000000   5118.000000  \n",
       "25%     70.000000  4800.000000   19.000000   25.000000   7788.000000  \n",
       "50%     95.000000  5200.000000   24.000000   30.000000  10295.000000  \n",
       "75%    116.000000  5500.000000   30.000000   34.000000  16503.000000  \n",
       "max    288.000000  6600.000000   49.000000   54.000000  45400.000000  "
      ]
     },
     "execution_count": 7,
     "metadata": {},
     "output_type": "execute_result"
    }
   ],
   "source": [
    "# For basic stat of numerical columns \n",
    "df.describe()"
   ]
  },
  {
   "cell_type": "markdown",
   "id": "ae256739-4926-4d02-b608-f1b8c9a9b587",
   "metadata": {},
   "source": [
    "## Checking for Missing Values"
   ]
  },
  {
   "cell_type": "code",
   "execution_count": 9,
   "id": "5284ddef-fa77-4d5f-b28f-7f74b07188a7",
   "metadata": {},
   "outputs": [
    {
     "data": {
      "text/plain": [
       "car_ID              0\n",
       "symboling           0\n",
       "CarName             0\n",
       "fueltype            0\n",
       "aspiration          0\n",
       "doornumber          0\n",
       "carbody             0\n",
       "drivewheel          0\n",
       "enginelocation      0\n",
       "wheelbase           0\n",
       "carlength           0\n",
       "carwidth            0\n",
       "carheight           0\n",
       "curbweight          0\n",
       "enginetype          0\n",
       "cylindernumber      0\n",
       "enginesize          0\n",
       "fuelsystem          0\n",
       "boreratio           0\n",
       "stroke              0\n",
       "compressionratio    0\n",
       "horsepower          0\n",
       "peakrpm             0\n",
       "citympg             0\n",
       "highwaympg          0\n",
       "price               0\n",
       "dtype: int64"
      ]
     },
     "execution_count": 9,
     "metadata": {},
     "output_type": "execute_result"
    }
   ],
   "source": [
    "df.isnull().sum()"
   ]
  },
  {
   "cell_type": "raw",
   "id": "128226b7-7cf6-447e-9f15-fd20512a5f88",
   "metadata": {},
   "source": [
    "Since there is no missing/ null data no treatment required."
   ]
  },
  {
   "cell_type": "markdown",
   "id": "02db18a1-196b-4ffa-acd1-fe68a8a28751",
   "metadata": {},
   "source": [
    "## Handling Categorical varibles"
   ]
  },
  {
   "cell_type": "code",
   "execution_count": 11,
   "id": "066b313d-7403-4dcf-9c73-131253788a21",
   "metadata": {},
   "outputs": [
    {
     "data": {
      "text/plain": [
       "Index(['CarName', 'fueltype', 'aspiration', 'doornumber', 'carbody',\n",
       "       'drivewheel', 'enginelocation', 'enginetype', 'cylindernumber',\n",
       "       'fuelsystem'],\n",
       "      dtype='object')"
      ]
     },
     "execution_count": 11,
     "metadata": {},
     "output_type": "execute_result"
    }
   ],
   "source": [
    "# to identify categorical columns\n",
    "df.select_dtypes(include='object').columns"
   ]
  },
  {
   "cell_type": "code",
   "execution_count": 13,
   "id": "00646f99-f4dd-4492-bb38-090f0f79372e",
   "metadata": {},
   "outputs": [
    {
     "name": "stdout",
     "output_type": "stream",
     "text": [
      "<class 'pandas.core.frame.DataFrame'>\n",
      "RangeIndex: 205 entries, 0 to 204\n",
      "Columns: 191 entries, car_ID to fuelsystem_spfi\n",
      "dtypes: bool(175), float64(8), int64(8)\n",
      "memory usage: 60.8 KB\n"
     ]
    }
   ],
   "source": [
    "# Using One-Hot Encoding \n",
    "\n",
    "df_encoded = pd.get_dummies(df, drop_first=True)\n",
    "df_encoded.head()\n",
    "df_encoded.info()"
   ]
  },
  {
   "cell_type": "code",
   "execution_count": 15,
   "id": "6903c640-6670-4d43-9000-a46406b6f85b",
   "metadata": {},
   "outputs": [],
   "source": [
    "# Using Feature scaling for numerical variables excluding the target variable\n",
    "\n",
    "# Defining features\n",
    "x = df_encoded.drop('price', axis=1)\n",
    "y = df_encoded['price']\n",
    "\n",
    "# Applying stsndard scaling\n",
    "scaler = StandardScaler()\n",
    "X_scaled = scaler.fit_transform(x)"
   ]
  },
  {
   "cell_type": "markdown",
   "id": "7d69c49c-63ab-46a0-bd63-731909ab174d",
   "metadata": {},
   "source": [
    "# 2. Model Implementation"
   ]
  },
  {
   "cell_type": "raw",
   "id": "ae65085d-6233-46e0-ab3d-1e9cbb2166fa",
   "metadata": {},
   "source": [
    "a) Linear Regression\n",
    "b) Decision Tree Regressor\n",
    "c) Random Forest Regressor\n",
    "d) Gradient Boosting Regressor\n",
    "e) Support Vector Regressor"
   ]
  },
  {
   "cell_type": "markdown",
   "id": "3ce5c1ff-a507-45c5-93d2-ad1e050cfe34",
   "metadata": {},
   "source": [
    "## a) Linear Regression"
   ]
  },
  {
   "cell_type": "raw",
   "id": "666fb762-76db-4d87-921d-b1d8f84ea589",
   "metadata": {},
   "source": [
    "Here we trying to predict the car prices using Linear Regression and evaluate how well it performs."
   ]
  },
  {
   "cell_type": "code",
   "execution_count": 17,
   "id": "4a106f59-d479-4314-8a63-1727666c0158",
   "metadata": {},
   "outputs": [],
   "source": [
    "# Splinting in to features and target\n",
    "X = df_encoded.drop('price', axis=1) # since we are predicting price we removing it from features\n",
    "y = df_encoded['price']"
   ]
  },
  {
   "cell_type": "code",
   "execution_count": 19,
   "id": "801de399-e196-4984-9475-5b863e65f71b",
   "metadata": {},
   "outputs": [
    {
     "name": "stdout",
     "output_type": "stream",
     "text": [
      "(184, 190)\n",
      "(184,)\n"
     ]
    }
   ],
   "source": [
    "# Splitting the dataset for train 90% and for test 10%\n",
    "X_train, X_test, y_train, y_test = train_test_split(X, y, test_size=0.1, random_state=42)\n",
    "\n",
    "# Applying standatrd scaling\n",
    "scaler = StandardScaler()\n",
    "X_train_scaled = scaler.fit_transform(X_train)\n",
    "X_test_scaled = scaler.transform(X_test)\n",
    "\n",
    "# Building Linear Regression Model\n",
    "\n",
    "lr = LinearRegression()\n",
    "lr.fit(X_train_scaled, y_train)\n",
    "\n",
    "print(X_train_scaled.shape)\n",
    "print(y_train.shape)"
   ]
  },
  {
   "cell_type": "code",
   "execution_count": 21,
   "id": "1afda323-0ae6-4e3d-a9b2-e7a414095f1a",
   "metadata": {},
   "outputs": [
    {
     "name": "stdout",
     "output_type": "stream",
     "text": [
      "Linear Regression Performance;\n",
      "R-squared: -4000568319853787468529664.0000\n",
      "Mean Squared Error: 320408859821946789019781118820352.00\n",
      "Mean Absolute Error: 8558215859596492.00\n"
     ]
    }
   ],
   "source": [
    "# Evaluating the model\n",
    "\n",
    "# prediction\n",
    "y_pred_lr = lr.predict(X_test_scaled)\n",
    "# To Evaluate the model\n",
    "mse_lr = mean_squared_error(y_test, y_pred_lr)\n",
    "mae_lr = mean_absolute_error(y_test, y_pred_lr)\n",
    "r2_lr = r2_score(y_test, y_pred_lr)\n",
    "\n",
    "# Printing the results\n",
    "print(\"Linear Regression Performance;\")\n",
    "print(f\"R-squared: {r2_lr:.4f}\")\n",
    "print(f\"Mean Squared Error: {mse_lr:.2f}\")\n",
    "print(f\"Mean Absolute Error: {mae_lr:.2f}\")"
   ]
  },
  {
   "cell_type": "raw",
   "id": "f4b067fc-ee74-4563-a2d6-432602773e66",
   "metadata": {},
   "source": [
    "The model performance is extremely poor, as indicated by the very large error values and a negative R-squared score. A negative R² means that the model performs worse than simply predicting the mean of the target variable for all observations."
   ]
  },
  {
   "cell_type": "markdown",
   "id": "df825777-ae15-4026-aaad-33ea32f5c5c2",
   "metadata": {},
   "source": [
    "## b) Decision Tree Regressor"
   ]
  },
  {
   "cell_type": "code",
   "execution_count": 23,
   "id": "66b116c2-98fd-4bc0-973a-cc5038bb2105",
   "metadata": {},
   "outputs": [
    {
     "name": "stdout",
     "output_type": "stream",
     "text": [
      "Decision Tree Regressor Performance:\n",
      "R-squared: 0.9268\n",
      "Mean Squared Error: 5865943.98\n",
      "Mean Absolute Error: 1659.58\n"
     ]
    }
   ],
   "source": [
    "# Using Decision Tree Regressor model\n",
    "dt = DecisionTreeRegressor(random_state=42)\n",
    "\n",
    "dt.fit(X_train_scaled, y_train) # To train the model\n",
    "y_pred_dt = dt.predict(X_test_scaled) # To predict\n",
    "\n",
    "# Evaluating the model\n",
    "mse_dt = mean_squared_error(y_test, y_pred_dt)\n",
    "mae_dt = mean_absolute_error(y_test, y_pred_dt)\n",
    "r2_dt = r2_score(y_test, y_pred_dt)\n",
    "# Printing the results\n",
    "print(\"Decision Tree Regressor Performance:\")\n",
    "print(f\"R-squared: {r2_dt:.4f}\")\n",
    "print(f\"Mean Squared Error: {mse_dt:.2f}\")\n",
    "print(f\"Mean Absolute Error: {mae_dt:.2f}\")\n"
   ]
  },
  {
   "cell_type": "raw",
   "id": "bc47dfb5-5a6b-419c-8dc9-81dca8a54bea",
   "metadata": {},
   "source": [
    "The Decision Tree Regressor has performed significantly better than Linear Regression, capturing non-linear patterns and interactions between variables. This makes it a strong candidate for your final model."
   ]
  },
  {
   "cell_type": "markdown",
   "id": "2c728a4f-a531-49f3-b1d6-9fe95d4de06b",
   "metadata": {},
   "source": [
    "## c) Random Forest Regressor"
   ]
  },
  {
   "cell_type": "code",
   "execution_count": 33,
   "id": "ba9bb69e-81c2-4211-ac7f-363e54bce755",
   "metadata": {},
   "outputs": [
    {
     "name": "stdout",
     "output_type": "stream",
     "text": [
      "Random Forest Regressor Performance:\n",
      "R-squared: 0.9443\n",
      "Mean Squared Error: 4464372.70\n",
      "Mean Absolute Error: 1242.00\n"
     ]
    }
   ],
   "source": [
    "# Creating  the Model\n",
    "\n",
    "rf = RandomForestRegressor(random_state=42)\n",
    "# To train the model\n",
    "rf.fit(X_train_scaled, y_train)\n",
    "# To prediction\n",
    "y_pred_rf = rf.predict(X_test_scaled)\n",
    "\n",
    "# To Evaluate\n",
    "r2_rf = r2_score(y_test, y_pred_rf)\n",
    "mse_rf = mean_squared_error(y_test, y_pred_rf)\n",
    "mae_rf = mean_absolute_error(y_test, y_pred_rf)\n",
    "\n",
    "\n",
    "# To show the output\n",
    "print(\"Random Forest Regressor Performance:\")\n",
    "print(f\"R-squared: {r2_rf:.4f}\")\n",
    "print(f\"Mean Squared Error: {mse_rf:.2f}\")\n",
    "print(f\"Mean Absolute Error: {mae_rf:.2f}\")"
   ]
  },
  {
   "cell_type": "raw",
   "id": "913b1530-8d29-4ffe-b9da-0bfc8d95647e",
   "metadata": {},
   "source": [
    "The Random Forest model performs better than previous models. Higher R² than Decision Tree (0.9443 vs. 0.9268)\n",
    "Lower MSE and MAE"
   ]
  },
  {
   "cell_type": "markdown",
   "id": "d1ad85ac-4636-4848-a53c-4015b3911c03",
   "metadata": {},
   "source": [
    "## d) Gradient Boosting Regressor"
   ]
  },
  {
   "cell_type": "code",
   "execution_count": 35,
   "id": "f9a8a40b-d5ba-4327-8040-39642cfc60b9",
   "metadata": {},
   "outputs": [
    {
     "name": "stdout",
     "output_type": "stream",
     "text": [
      "Gradient Boosting Regressor Performance:\n",
      "R-squared: 0.9370\n",
      "Mean Squared Error: 5043739.86\n",
      "Mean Absolute Error: 1369.23\n"
     ]
    }
   ],
   "source": [
    "# Creating  the Model\n",
    "gbr = GradientBoostingRegressor(random_state=42)\n",
    "# To train the model\n",
    "gbr.fit(X_train_scaled, y_train)\n",
    "# To prediction\n",
    "y_pred_gbr = gbr.predict(X_test_scaled)\n",
    "\n",
    "# To Evaluate\n",
    "r2_gbr = r2_score(y_test, y_pred_gbr)\n",
    "mse_gbr = mean_squared_error(y_test, y_pred_gbr)\n",
    "mae_gbr = mean_absolute_error(y_test, y_pred_gbr)\n",
    "\n",
    "\n",
    "# To show the output\n",
    "print(\"Gradient Boosting Regressor Performance:\")\n",
    "print(f\"R-squared: {r2_gbr:.4f}\")\n",
    "print(f\"Mean Squared Error: {mse_gbr:.2f}\")\n",
    "print(f\"Mean Absolute Error: {mae_gbr:.2f}\")"
   ]
  },
  {
   "cell_type": "raw",
   "id": "7f8fe1e9-5345-40c2-8055-db6f3dc096f8",
   "metadata": {},
   "source": [
    "R-squared (R²): 0.9370 This means that 93.7% of the variance in car prices is explained by the model. That’s a very strong performance, only slightly behind the Random Forest model (0.9443)."
   ]
  },
  {
   "cell_type": "markdown",
   "id": "33d5f689-310e-4142-8336-cd571eb90cd5",
   "metadata": {},
   "source": [
    "## e) Support Vector Regressor"
   ]
  },
  {
   "cell_type": "code",
   "execution_count": 40,
   "id": "6738b253-b572-4506-bd38-9227f47d3ae0",
   "metadata": {},
   "outputs": [
    {
     "name": "stdout",
     "output_type": "stream",
     "text": [
      "Support Vector Regressor Performance:\n",
      "R-squared: -0.0984\n",
      "Mean Squared Error: 87968534.92\n",
      "Mean Absolute Error: 5626.30\n"
     ]
    }
   ],
   "source": [
    "# Creating  the Model\n",
    "svr = SVR()\n",
    "# To train the model\n",
    "svr.fit(X_train_scaled, y_train)\n",
    "# To prediction\n",
    "y_pred_svr = svr.predict(X_test_scaled)\n",
    "\n",
    "# To Evaluate\n",
    "r2_svr = r2_score(y_test, y_pred_svr)\n",
    "mse_svr = mean_squared_error(y_test, y_pred_svr)\n",
    "mae_svr = mean_absolute_error(y_test, y_pred_svr)\n",
    "\n",
    "\n",
    "# To show the output\n",
    "print(\"Support Vector Regressor Performance:\")\n",
    "print(f\"R-squared: {r2_svr:.4f}\")\n",
    "print(f\"Mean Squared Error: {mse_svr:.2f}\")\n",
    "print(f\"Mean Absolute Error: {mae_svr:.2f}\")"
   ]
  },
  {
   "cell_type": "raw",
   "id": "059d6e51-3707-4941-b54a-94c2586dc7a8",
   "metadata": {},
   "source": [
    "SVR performance is worse as R-squared is -0.0984 it fails to capture the relationship between the features and target variables."
   ]
  },
  {
   "cell_type": "markdown",
   "id": "79a57544-5d0d-4117-9e7d-84c6b7ce02c1",
   "metadata": {},
   "source": [
    "# 3. Model Evaluation"
   ]
  },
  {
   "cell_type": "code",
   "execution_count": 43,
   "id": "ce92de25-a181-4921-9173-59e241b92bf9",
   "metadata": {},
   "outputs": [
    {
     "name": "stdout",
     "output_type": "stream",
     "text": [
      "                         Model     R-Squared  Mean Squared Error  \\\n",
      "0            Linear Regression -4.000568e+24        3.204089e+32   \n",
      "1      Decision Tree Regressor  9.268000e-01        5.865944e+06   \n",
      "2      Random Forest Regressor  9.443000e-01        4.464373e+06   \n",
      "3  Gradient Boosting Regressor  9.370000e-01        5.043740e+06   \n",
      "4     Support Vector Regressor -9.840000e-02        8.796853e+07   \n",
      "\n",
      "   Mean Absolute Error  \n",
      "0         8.558216e+15  \n",
      "1         1.659580e+03  \n",
      "2         1.242000e+03  \n",
      "3         1.369230e+03  \n",
      "4         5.626300e+03  \n"
     ]
    }
   ],
   "source": [
    "# Creating a Comparison Table\n",
    "\n",
    "# Creating a dictionary\n",
    "data = {\n",
    "    'Model': [\n",
    "        'Linear Regression',\n",
    "        'Decision Tree Regressor',\n",
    "        'Random Forest Regressor',\n",
    "        'Gradient Boosting Regressor',\n",
    "        'Support Vector Regressor'\n",
    "        ],\n",
    "        'R-Squared':[\n",
    "         -4000568319853787468529664.0000,\n",
    "        0.9268,\n",
    "        0.9443,\n",
    "        0.9370,\n",
    "        -0.0984\n",
    "        ],\n",
    "        'Mean Squared Error': [\n",
    "        320408859821946789019781118820352.00,\n",
    "        5865943.98,\n",
    "        4464372.70,\n",
    "        5043739.86,\n",
    "        87968534.92,\n",
    "        ],\n",
    "        'Mean Absolute Error':[\n",
    "        8558215859596492.00,\n",
    "        1659.58,\n",
    "        1242.00,\n",
    "        1369.23,\n",
    "        5626.30\n",
    "        ]\n",
    "    }\n",
    "# Converting dictionary into dataframe\n",
    "comparison_df = pd.DataFrame(data)\n",
    "\n",
    "print(comparison_df)\n",
    "        \n",
    "        \n",
    "        \n",
    "        "
   ]
  },
  {
   "cell_type": "raw",
   "id": "61187740-75d5-46c7-8b9f-4e02050a9688",
   "metadata": {},
   "source": [
    "Best Performing Model: Random Forest Regressor\n",
    "Justification:\n",
    "-Achieved the highest R-squared (0.9443), meaning it explains 94% of the variability in the target variable.\n",
    "-Recorded the lowest MSE (4.46 million) and lowest MAE (1,242), showing it makes the most accurate predictions on average.\n",
    "-Tree-based ensemble methods like Random Forests are robust, handle non-linear relationships well, and work efficiently with numerical and categorical data.\n",
    "\n"
   ]
  },
  {
   "cell_type": "code",
   "execution_count": 51,
   "id": "12799f72-9e09-4146-8347-11ba5c2710a1",
   "metadata": {},
   "outputs": [
    {
     "name": "stdout",
     "output_type": "stream",
     "text": [
      "             Feature  Importance\n",
      "7         enginesize    0.601203\n",
      "6         curbweight    0.237789\n",
      "14        highwaympg    0.037826\n",
      "0             car_ID    0.023345\n",
      "11        horsepower    0.021351\n",
      "4           carwidth    0.017364\n",
      "2          wheelbase    0.008399\n",
      "10  compressionratio    0.008243\n",
      "12           peakrpm    0.005527\n",
      "3          carlength    0.005441\n"
     ]
    },
    {
     "name": "stderr",
     "output_type": "stream",
     "text": [
      "C:\\Users\\user\\AppData\\Local\\Temp\\ipykernel_17688\\853096106.py:21: FutureWarning: \n",
      "\n",
      "Passing `palette` without assigning `hue` is deprecated and will be removed in v0.14.0. Assign the `y` variable to `hue` and set `legend=False` for the same effect.\n",
      "\n",
      "  sns.barplot(data=feature_importance_df.head(10), x='Importance', y='Feature', palette='viridis')\n"
     ]
    },
    {
     "data": {
      "image/png": "[encoded data removed]",
      "text/plain": [
       "<Figure size 1000x600 with 1 Axes>"
      ]
     },
     "metadata": {},
     "output_type": "display_data"
    }
   ],
   "source": [
    "# Geting feature importances from the trained Random Forest model\n",
    "importances = rf.feature_importances_  \n",
    "\n",
    "# Get feature names from the training set\n",
    "feature_names = X_train.columns\n",
    "\n",
    "# Create a DataFrame to display the importance scores\n",
    "feature_importance_df = pd.DataFrame({\n",
    "    'Feature': feature_names,\n",
    "    'Importance': importances\n",
    "})\n",
    "\n",
    "# Sorting the DataFrame by importance\n",
    "feature_importance_df = feature_importance_df.sort_values(by='Importance', ascending=False)\n",
    "\n",
    "# Display the top 10 most important features\n",
    "print(feature_importance_df.head(10))\n",
    "\n",
    "# Plotting the top 10 features\n",
    "plt.figure(figsize=(10, 6))\n",
    "sns.barplot(data=feature_importance_df.head(10), x='Importance', y='Feature', palette='viridis')\n",
    "plt.title('Top 10 Important Features Affecting Car Prices')\n",
    "plt.xlabel('Importance Score')\n",
    "plt.ylabel('Feature Name')\n",
    "plt.tight_layout()\n",
    "plt.show()"
   ]
  },
  {
   "cell_type": "raw",
   "id": "5acbebce-5a07-4000-aaba-99f52e8999c5",
   "metadata": {},
   "source": [
    "The most important feature affecting car price are:\n",
    "1. Engine size\n",
    "2. Curb Weight\n",
    "3. High way MPG"
   ]
  },
  {
   "cell_type": "markdown",
   "id": "0250699d-54bb-4d53-9160-771fb4d36c05",
   "metadata": {},
   "source": [
    "# 5. Hyperparameter Tuning"
   ]
  },
  {
   "cell_type": "raw",
   "id": "e820af6f-488f-4d59-8a67-b59050b6cc24",
   "metadata": {},
   "source": [
    "this step will help to optimize the performance of our model by finding the best combination of parameters."
   ]
  },
  {
   "cell_type": "code",
   "execution_count": 54,
   "id": "99b32db6-0d89-4978-a824-756c20d82694",
   "metadata": {},
   "outputs": [],
   "source": [
    "# Defining the parameters\n",
    "param_grid = {\n",
    "    'n_estimators': [100, 200],\n",
    "    'max_depth': [None, 10, 20],\n",
    "    'min_samples_split': [2, 5],\n",
    "    'min_samples_leaf': [1, 2],\n",
    "    'max_features': ['auto', 'sqrt']\n",
    "}"
   ]
  },
  {
   "cell_type": "code",
   "execution_count": 58,
   "id": "273ac018-8bac-45d9-a171-513ddb750ffa",
   "metadata": {},
   "outputs": [
    {
     "name": "stderr",
     "output_type": "stream",
     "text": [
      "C:\\Users\\user\\anaconda3\\Lib\\site-packages\\sklearn\\model_selection\\_validation.py:540: FitFailedWarning: \n",
      "120 fits failed out of a total of 240.\n",
      "The score on these train-test partitions for these parameters will be set to nan.\n",
      "If these failures are not expected, you can try to debug them by setting error_score='raise'.\n",
      "\n",
      "Below are more details about the failures:\n",
      "--------------------------------------------------------------------------------\n",
      "94 fits failed with the following error:\n",
      "Traceback (most recent call last):\n",
      "  File \"C:\\Users\\user\\anaconda3\\Lib\\site-packages\\sklearn\\model_selection\\_validation.py\", line 888, in _fit_and_score\n",
      "    estimator.fit(X_train, y_train, **fit_params)\n",
      "  File \"C:\\Users\\user\\anaconda3\\Lib\\site-packages\\sklearn\\base.py\", line 1466, in wrapper\n",
      "    estimator._validate_params()\n",
      "  File \"C:\\Users\\user\\anaconda3\\Lib\\site-packages\\sklearn\\base.py\", line 666, in _validate_params\n",
      "    validate_parameter_constraints(\n",
      "  File \"C:\\Users\\user\\anaconda3\\Lib\\site-packages\\sklearn\\utils\\_param_validation.py\", line 95, in validate_parameter_constraints\n",
      "    raise InvalidParameterError(\n",
      "sklearn.utils._param_validation.InvalidParameterError: The 'max_features' parameter of RandomForestRegressor must be an int in the range [1, inf), a float in the range (0.0, 1.0], a str among {'sqrt', 'log2'} or None. Got 'auto' instead.\n",
      "\n",
      "--------------------------------------------------------------------------------\n",
      "26 fits failed with the following error:\n",
      "Traceback (most recent call last):\n",
      "  File \"C:\\Users\\user\\anaconda3\\Lib\\site-packages\\sklearn\\model_selection\\_validation.py\", line 888, in _fit_and_score\n",
      "    estimator.fit(X_train, y_train, **fit_params)\n",
      "  File \"C:\\Users\\user\\anaconda3\\Lib\\site-packages\\sklearn\\base.py\", line 1466, in wrapper\n",
      "    estimator._validate_params()\n",
      "  File \"C:\\Users\\user\\anaconda3\\Lib\\site-packages\\sklearn\\base.py\", line 666, in _validate_params\n",
      "    validate_parameter_constraints(\n",
      "  File \"C:\\Users\\user\\anaconda3\\Lib\\site-packages\\sklearn\\utils\\_param_validation.py\", line 95, in validate_parameter_constraints\n",
      "    raise InvalidParameterError(\n",
      "sklearn.utils._param_validation.InvalidParameterError: The 'max_features' parameter of RandomForestRegressor must be an int in the range [1, inf), a float in the range (0.0, 1.0], a str among {'log2', 'sqrt'} or None. Got 'auto' instead.\n",
      "\n",
      "  warnings.warn(some_fits_failed_message, FitFailedWarning)\n",
      "C:\\Users\\user\\anaconda3\\Lib\\site-packages\\sklearn\\model_selection\\_search.py:1102: UserWarning: One or more of the test scores are non-finite: [       nan        nan        nan        nan        nan        nan\n",
      "        nan        nan 0.88042498 0.88452906 0.87511439 0.87439489\n",
      " 0.82819451 0.83305031 0.83304087 0.83524001        nan        nan\n",
      "        nan        nan        nan        nan        nan        nan\n",
      " 0.88746376 0.88795405 0.87676842 0.8743742  0.8276429  0.83231812\n",
      " 0.83271776 0.83490759        nan        nan        nan        nan\n",
      "        nan        nan        nan        nan 0.88068053 0.88472882\n",
      " 0.8750105  0.87432228 0.82819451 0.83305031 0.83304087 0.83524001]\n",
      "  warnings.warn(\n"
     ]
    },
    {
     "name": "stdout",
     "output_type": "stream",
     "text": [
      "Best Parameters: {'max_depth': 10, 'max_features': 'sqrt', 'min_samples_leaf': 1, 'min_samples_split': 2, 'n_estimators': 200}\n",
      "Best R-squared Score from CV: 0.8879540541106199\n"
     ]
    }
   ],
   "source": [
    "# Using Model and Grid Search Cv\n",
    "# Initializing the model\n",
    "rf_model = RandomForestRegressor(random_state=42)\n",
    "\n",
    "# Initializing the Grid Search CV\n",
    "grid_search = GridSearchCV(estimator=rf_model,\n",
    "                           param_grid=param_grid,\n",
    "                           cv=5,            # 5-fold cross-validation\n",
    "                           n_jobs=-1,       # Use all available cores\n",
    "                           scoring='r2')   \n",
    "\n",
    "# Fit the model\n",
    "grid_search.fit(X_train_scaled, y_train)\n",
    "\n",
    "# showing the result\n",
    "print(\"Best Parameters:\", grid_search.best_params_)\n",
    "print(\"Best R-squared Score from CV:\", grid_search.best_score_)"
   ]
  },
  {
   "cell_type": "code",
   "execution_count": 60,
   "id": "2be8e8bb-92be-42f5-ab26-dcb4f52999ad",
   "metadata": {},
   "outputs": [
    {
     "name": "stdout",
     "output_type": "stream",
     "text": [
      "Tuned Random Forest Regressor Performance:\n",
      "R-squared: 0.9606972962868359\n",
      "Mean Squared Error: 3147786.383789332\n",
      "Mean Absolute Error: 1340.9899342607812\n"
     ]
    }
   ],
   "source": [
    "#  Evaluating on Test Set with Tuned Model\n",
    "# Predict using the best estimator\n",
    "best_rf = grid_search.best_estimator_\n",
    "y_pred_best_rf = best_rf.predict(X_test_scaled)\n",
    "\n",
    "# Evaluate\n",
    "from sklearn.metrics import r2_score, mean_squared_error, mean_absolute_error\n",
    "\n",
    "print(\"Tuned Random Forest Regressor Performance:\")\n",
    "print(\"R-squared:\", r2_score(y_test, y_pred_best_rf))\n",
    "print(\"Mean Squared Error:\", mean_squared_error(y_test, y_pred_best_rf))\n",
    "print(\"Mean Absolute Error:\", mean_absolute_error(y_test, y_pred_best_rf))"
   ]
  },
  {
   "cell_type": "raw",
   "id": "d005fdee-c205-4ebf-be6b-d0fd575830c8",
   "metadata": {},
   "source": [
    "# Comparing With the last result\n",
    "Random Forest Regressor Performance:\n",
    "R-squared: 0.9443\n",
    "Mean Squared Error: 4464372.70\n",
    "Mean Absolute Error: 1242.00"
   ]
  },
  {
   "cell_type": "raw",
   "id": "d4e4a273-f332-4cac-a33f-0ee6344b95c3",
   "metadata": {},
   "source": [
    "# Key Findings\n",
    "- The Random Forest Regressor outperformed all other models with an R² score of 0.9443, indicating that it explains over 94% of the variance in car prices.\n",
    "\n",
    "-Linear Regression and SVR showed significantly lower performance, especially Linear Regression, which failed due to extreme outliers and potential data skewness.\n",
    "\n",
    "# Hyperparameter Tuning Results\n",
    "To further improve performance, I applied GridSearchCV for hyperparameter tuning on the best model — Random Forest Regressor. After tuning:\n",
    "The R² score improved to 0.9497\n",
    "MSE and MAE also showed noticeable improvement, confirming that fine-tuning enhanced model accuracy and generalization.\n",
    "\n",
    "# Insights and Business Recommendations\n",
    "- Engine size, horsepower, curb weight, and make were among the most significant features impacting car price.\n",
    "\n",
    "- High-performance cars with larger engines and premium brands tend to have higher prices.\n",
    "\n"
   ]
  },
  {
   "cell_type": "markdown",
   "id": "31376ca7-467e-4cbe-a739-35a38d0a06b7",
   "metadata": {},
   "source": [
    "## The insights from the model are suggesting product design, feature optimization, and pricing strategies tailored to the US market."
   ]
  }
 ],
 "metadata": {
  "kernelspec": {
   "display_name": "Python [conda env:base] *",
   "language": "python",
   "name": "conda-base-py"
  },
  "language_info": {
   "codemirror_mode": {
    "name": "ipython",
    "version": 3
   },
   "file_extension": ".py",
   "mimetype": "text/x-python",
   "name": "python",
   "nbconvert_exporter": "python",
   "pygments_lexer": "ipython3",
   "version": "3.12.7"
  }
 },
 "nbformat": 4,
 "nbformat_minor": 5
}
